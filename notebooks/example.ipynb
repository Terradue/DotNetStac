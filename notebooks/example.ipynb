{
 "cells": [
  {
   "cell_type": "markdown",
   "metadata": {
    "slideshow": {
     "slide_type": "slide"
    }
   },
   "source": [
    "<h1 align=\"center\">DotNetStac</h1>\n",
    "<h2 align=\"center\">\n",
    ".Net library for working with Spatio Temporal Asset Catalogs (<a href=\"https://stacspec.org\">STAC</a>)\n",
    "</h2>\n",
    "\n",
    "### **DotNetStac** helps you to work with [STAC](https://stacspec.org) ([catalog](https://github.com/radiantearth/stac-spec/tree/master/catalog-spec), [collection](https://github.com/radiantearth/stac-spec/tree/master/collection-spec), [item](https://github.com/radiantearth/stac-spec/tree/master/catalog-spec))\n",
    "In a nutshell, the library allows import/export of STAC JSON documents (Serialization/Deserialization using [Newtonsoft.JSON](https://www.newtonsoft.com/json)) to typed object with properties represented in enhanced objects such as geometries, time stamp/period/span, numerical values and many more via STAC extension plugins engine."
   ]
  },
  {
   "cell_type": "markdown",
   "metadata": {},
   "source": [
    "## Getting Started\n",
    "\n",
    "In this notebook, we are going to review the library's features through a series of code examples.\n",
    "\n",
    "#### Important Note about .Net programming and C# language usage in this library\n",
    "\n",
    "We chose to design and implement the objects of this library as plain as possible (e.g. POCO) in order to keep the structured and typed nature of the C# language. So, we will deal with normal classes, without more attributes describing infrastructure concerns or other responsibilities that your domain objects shouldn't have."
   ]
  },
  {
   "cell_type": "markdown",
   "metadata": {
    "slideshow": {
     "slide_type": "slide"
    }
   },
   "source": [
    "### 1 Install DotNetStac\n",
    "First, we either install lastest version of DotNetStac in the notebook or  we use the locally built binaries"
   ]
  },
  {
   "cell_type": "code",
   "execution_count": null,
   "metadata": {
    "slideshow": {
     "slide_type": "skip"
    }
   },
   "outputs": [],
   "source": [
    "// Use built lib\n",
    "#i \"/home/jovyan/src/DotNetStac/bin/Debug/netstandard2.0/publish/\"\n",
    "#r \"/home/jovyan/src/DotNetStac/bin/Debug/netstandard2.0/publish/DotNetStac.dll\""
   ]
  },
  {
   "cell_type": "markdown",
   "metadata": {
    "slideshow": {
     "slide_type": "slide"
    }
   },
   "source": [
    "### 2 Deserialization of STAC documents\n",
    "\n",
    "The (de)serialiation methods are wrapped in methods in [class `StacConvert`](https://terradue.github.io/DotNetStac/api/Stac.StacConvert.html) that is the main entry point from/to JSON/.Net.\n",
    "\n",
    "Let's start reading a STAC catalog online. Please note that DotNetStac does not provide with data access middleware. You can integrate own data access or you can test the [`Stars` SDK](https://github.com/Terradue/Stars) that provides with integrated functions to manipulate STAC objects and their storage.\n",
    "\n",
    "The following code is a very simple function loading a catalog and printing it's `id`, `description` and `stac_version`."
   ]
  },
  {
   "cell_type": "code",
   "execution_count": null,
   "metadata": {
    "slideshow": {
     "slide_type": "slide"
    },
    "tags": []
   },
   "outputs": [],
   "source": [
    "using Stac;\n",
    "using System;\n",
    "using System.Net;\n",
    "\n",
    "var webc = new WebClient();\n",
    "Uri catalogUri = new Uri(\"https://cbers-stac-1-0-rc.s3.amazonaws.com/catalog.json\");\n",
    "\n",
    "// StacConvert.Deserialize is the helper to start loading any STAC document\n",
    "var json = webc.DownloadString(catalogUri);\n",
    "StacCatalog catalog = StacConvert.Deserialize<StacCatalog>(json);\n",
    "\n",
    "Console.Out.WriteLine(catalog.Id + \": \" + catalog.Description);\n",
    "Console.Out.WriteLine(catalog.StacVersion);\n"
   ]
  },
  {
   "cell_type": "markdown",
   "metadata": {},
   "source": [
    "### 3 Navigation from a Catalogue\n",
    "\n",
    "Using the previously loaded catalog, the following code executes a recursive function navigating from a root catalog through all it's tree structure recursing in the `child` STAC links and listing the `item` links and their `assets`.\n",
    "\n",
    "Please note the following:\n",
    "\n",
    "- `GetChildrenLinks` and `GetItemLinks` are the recommanded ways to get the links for navigating through the tree.\n",
    "- The previous functions as the rest of the library does not alter the `Uri`s. It is then up to the developer to resolve the relative ones. As in the code, Uri class provides with all the necessary methods to easily join a base Url with a relative one.\n",
    "- The `StacConvert.Deserialize<>` methods allows to specify the interfaces to ease the deserialization when the STAC type is unknown: [`IStacObject`](https://terradue.github.io/DotNetStac/api/Stac.IStacObject.html) and [`IStacCatalog`](https://terradue.github.io/DotNetStac/api/Stac.IStacCatalog.html)."
   ]
  },
  {
   "cell_type": "code",
   "execution_count": null,
   "metadata": {
    "slideshow": {
     "slide_type": "slide"
    },
    "tags": []
   },
   "outputs": [],
   "source": [
    "using System.Linq;\n",
    "using Stac.Extensions.ItemCollections;\n",
    "\n",
    "public static void ListChildrensItemsAndAssets(IStacParent catalog, Uri baseUri, WebClient webc, string prefix = \"\", int limit = 20)\n",
    "{\n",
    "    // Get children and items (sub catalogs, collections and items)\n",
    "    foreach (var childLink in catalog.GetChildrenLinks().Concat(catalog.GetItemLinks()).Take(limit))\n",
    "    {\n",
    "        // IMPORTANT: Relative Uri resolution\n",
    "        Uri childUri = childLink.Uri;\n",
    "        if (!childUri.IsAbsoluteUri)\n",
    "            childUri = new Uri(baseUri, childUri.ToString());\n",
    "        var childjson = webc.DownloadString(childUri);\n",
    "        // STAC object loading (using the IStacObject interface)\n",
    "        IStacObject child = StacConvert.Deserialize<IStacObject>(childjson);\n",
    "\n",
    "        if (child is StacCatalog || child is StacCollection)\n",
    "            Console.Out.WriteLine(prefix + child.Id + \": \" + child.CommonMetadata().Title);\n",
    "\n",
    "        List<StacItem> items = new List<StacItem>();\n",
    "\n",
    "        // Item or ItemCollection\n",
    "        if (child is StacItem)\n",
    "            items.Add(child as StacItem);\n",
    "        if (child is ItemCollection)\n",
    "            items = (child as ItemCollection).Features;\n",
    "        // List assets if item\n",
    "        foreach (var item in items)\n",
    "        {\n",
    "            // Print the item\n",
    "            Console.Out.WriteLine(prefix + \"  \" + item.Id + \": \" + item.CommonMetadata().Title);\n",
    "            foreach (var asset in item.Assets.Values) {\n",
    "                Console.Out.WriteLine(prefix + \"    *[\" + asset.MediaType + \"] \" + asset.Uri);\n",
    "            }\n",
    "        }\n",
    "\n",
    "        // Go deeper if catalog or collection\n",
    "        if (child is StacCatalog || child is StacCollection){\n",
    "            ListChildrensItemsAndAssets(child as IStacParent, childUri, webc, prefix + \"  \", limit);\n",
    "        }\n",
    "        \n",
    "    }\n",
    "}\n",
    "\n",
    "// Start the navigation\n",
    "ListChildrensItemsAndAssets(catalog as IStacParent, catalogUri, webc);"
   ]
  },
  {
   "cell_type": "markdown",
   "metadata": {
    "slideshow": {
     "slide_type": "slide"
    }
   },
   "source": [
    "### 4 Creation and serialization of STAC documents\n",
    "\n",
    "#### 4.1 Collection creation from scratch\n",
    "\n",
    "Let's now create a STAC collection programmatically using the plain Collection object. Here all collection specific fields are set manually."
   ]
  },
  {
   "cell_type": "code",
   "execution_count": null,
   "metadata": {
    "tags": []
   },
   "outputs": [],
   "source": [
    "using Newtonsoft.Json.Linq;\n",
    "using Stac;\n",
    "using Stac.Collection;\n",
    "using System;\n",
    "using System.Collections.Generic;\n",
    "\n",
    "\n",
    "  // First the mandatory elements of a Collection\n",
    "  // Spatial Extent\n",
    "  StacExtent extent = new StacExtent();\n",
    "  extent.Spatial = new StacSpatialExtent(-180, -56, 180, 83);\n",
    "  // Temporal Extent (set null to specify an open time extent)\n",
    "  extent.Temporal = new StacTemporalExtent(DateTime.Parse(\"2015-06-23T00:00:00Z\").ToUniversalTime(), null);\n",
    "\n",
    "  // Create the Collection\n",
    "  StacCollection collection = new StacCollection(\"COPERNICUS/S2\",\n",
    "    \"Sentinel-2 is a wide-swath, high-resolution, multi-spectral\\nimaging mission supporting Copernicus Land Monitoring studies,...\",\n",
    "                                      extent);\n",
    "\n",
    "  // Title\n",
    "  collection.Title = \"Sentinel-2 MSI: MultiSpectral Instrument, Level-1C\";\n",
    "\n",
    "  // Links (self, parent, root, other) via different helpers\n",
    "  collection.Links.Add(StacLink.CreateSelfLink(new Uri(\"https://storage.cloud.google.com/earthengine-test/catalog/COPERNICUS_S2.json\")));\n",
    "  collection.Links.Add(StacLink.CreateParentLink(new Uri(\"https://storage.cloud.google.com/earthengine-test/catalog/catalog.json\")));\n",
    "  collection.Links.Add(StacLink.CreateRootLink(new Uri(\"https://storage.cloud.google.com/earthengine-test/catalog/catalog.json\")));\n",
    "  collection.Links.Add(new StacLink(new Uri(\"https://scihub.copernicus.eu/twiki/pub/SciHubWebPortal/TermsConditions/Sentinel_Data_Terms_and_Conditions.pdf\"), \"license\", \"Legal notice on the use of Copernicus Sentinel Data and Service Information\", null));\n",
    "\n",
    "  // Keywords\n",
    "  collection.Keywords.Add(\"copernicus\");\n",
    "  collection.Keywords.Add(\"esa\");\n",
    "  collection.Keywords.Add(\"eu\");\n",
    "  collection.Keywords.Add(\"msi\");\n",
    "  collection.Keywords.Add(\"radiance\");\n",
    "  collection.Keywords.Add(\"sentinel\");\n",
    "\n",
    "  // Collection of Providers\n",
    "  collection.Providers.Add(new StacProvider(\"European Union/ESA/Copernicus\",\n",
    "                            new List<StacProviderRole>() { StacProviderRole.producer, StacProviderRole.licensor })\n",
    "            {\n",
    "                Uri = new Uri(\"https://sentinel.esa.int/web/sentinel/user-guides/sentinel-2-msi\")\n",
    "            });\n",
    "\n",
    "  // Summaries\n",
    "  // Stat Summary for the dates\n",
    "  collection.Summaries.Add(\"datetime\",\n",
    "      new StacSummaryStatsObject<DateTime>(\n",
    "          DateTime.Parse(\"2015-06-23T00:00:00Z\").ToUniversalTime(),\n",
    "          DateTime.Parse(\"2019-07-10T13:44:56Z\").ToUniversalTime()\n",
    "      )\n",
    "  );\n",
    "\n",
    "  // Value Set Summary for the platforms\n",
    "  collection.Summaries.Add(\"platform\",\n",
    "      new StacSummaryValueSet<string>(new string[] { \"sentinel-2a\", \"sentinel-2b\" })\n",
    "  );\n",
    "\n",
    "  collection.Summaries.Add(\"constellation\",\n",
    "      new StacSummaryValueSet<string>(new string[] { \"sentinel-2\" })\n",
    "  );\n",
    "\n",
    "  collection.Summaries.Add(\"instruments\",\n",
    "      new StacSummaryValueSet<string>(new string[] { \"msi\" })\n",
    "  );\n",
    "\n",
    "  // Stat Summary for specific extensions\n",
    "  collection.Summaries.Add(\"view:off_nadir\",\n",
    "      new StacSummaryStatsObject<double>(\n",
    "          0.0,\n",
    "          100\n",
    "      )\n",
    "  );\n",
    "\n",
    "  collection.Summaries.Add(\"view:sun_elevation\",\n",
    "      new StacSummaryStatsObject<double>(\n",
    "          6.78,\n",
    "          89.9\n",
    "      )\n",
    "  );\n",
    "\n",
    "  collection.Summaries.Add(\"sci:citation\",\n",
    "      new StacSummaryValueSet<string>(new string[] { \"Copernicus Sentinel data [Year]\" })\n",
    "  );\n",
    "\n",
    "  collection.Summaries.Add(\"gsd\",\n",
    "      new StacSummaryValueSet<int>(new int[] {\n",
    "          10,\n",
    "          30,\n",
    "          60\n",
    "      })\n",
    "  );\n",
    "\n",
    "  collection.Summaries.Add(\"proj:epsg\",\n",
    "      new StacSummaryValueSet<int>(new int[]\n",
    "          { 32601,32602,32603,32604,32605,32606,32607,32608,32609,32610,32611,32612,32613,32614,32615,32616,32617,32618,32619,32620,32621,32622,32623,32624,32625,32626,32627,32628,32629,32630,32631,32632,32633,32634,32635,32636,32637,32638,32639,32640,32641,32642,32643,32644,32645,32646,32647,32648,32649,32650,32651,32652,32653,32654,32655,32656,32657,32658,32659,32660}\n",
    "      )\n",
    "  );\n",
    "\n",
    "  // Value Set Summary can also be set using JToken objects from Newtonsoft.Json library\n",
    "  collection.Summaries.Add(\"eo:bands\",\n",
    "      new StacSummaryValueSet<JObject>(new JObject[] {\n",
    "          new JObject {\n",
    "              { \"name\", \"B1\" },\n",
    "              { \"common_name\", \"coastal\" },\n",
    "              { \"center_wavelength\", 4.439 }\n",
    "          },\n",
    "          new JObject {\n",
    "              { \"name\", \"B2\"},\n",
    "              { \"common_name\", \"blue\"},\n",
    "              { \"center_wavelength\", 4.966}\n",
    "          },\n",
    "          new JObject {\n",
    "              { \"name\", \"B3\"},\n",
    "              { \"common_name\", \"green\"},\n",
    "              { \"center_wavelength\", 5.6}\n",
    "          },\n",
    "          new JObject {\n",
    "              { \"name\", \"B4\"},\n",
    "              { \"common_name\", \"red\"},\n",
    "              { \"center_wavelength\", 6.645}\n",
    "          },\n",
    "          new JObject {\n",
    "              { \"name\", \"B5\"},\n",
    "              { \"center_wavelength\", 7.039}\n",
    "          },\n",
    "          new JObject {\n",
    "              { \"name\", \"B6\"},\n",
    "              { \"center_wavelength\", 7.402}\n",
    "          },\n",
    "          new JObject {\n",
    "              { \"name\", \"B7\"},\n",
    "              { \"center_wavelength\", 7.825}\n",
    "          },\n",
    "          new JObject {\n",
    "              { \"name\", \"B8\"},\n",
    "              { \"common_name\", \"nir\"},\n",
    "              { \"center_wavelength\", 8.351}\n",
    "          },\n",
    "          new JObject {\n",
    "              { \"name\", \"B8A\"},\n",
    "              { \"center_wavelength\", 8.648}\n",
    "          },\n",
    "          new JObject {\n",
    "              { \"name\", \"B9\"},\n",
    "              { \"center_wavelength\", 9.45}\n",
    "          },\n",
    "          new JObject {\n",
    "              { \"name\", \"B10\"},\n",
    "              { \"center_wavelength\", 1.3735}\n",
    "          },\n",
    "          new JObject {\n",
    "              { \"name\", \"B11\"},\n",
    "              { \"common_name\", \"swir16\"},\n",
    "              { \"center_wavelength\", 1.6137}\n",
    "          },\n",
    "          new JObject {\n",
    "              { \"name\", \"B12\"},\n",
    "              { \"common_name\", \"swir22\"},\n",
    "              { \"center_wavelength\", 2.2024}\n",
    "          }\n",
    "      })\n",
    "  );\n",
    "\n",
    "  // Serialize\n",
    "  var json = StacConvert.Serialize(collection);\n",
    "  // Print JSON!\n",
    "  Console.WriteLine(json)"
   ]
  },
  {
   "cell_type": "markdown",
   "metadata": {},
   "source": [
    "#### 4.2 Collection generation from a set of Items\n",
    "\n",
    "[`StacCollection` class](https://terradue.github.io/DotNetStac/api/Stac.StacCollection.html) has static methods allowing the automatic generation of a collection from a set of `StacItem`. The following code loads the items of [the examples folder from STAC repository](https://github.com/radiantearth/stac-spec/tree/master/examples) and generates the corresponding collection with\n",
    "- **Spatial and temporal extent** from geometry and time merge of the items\n",
    "- **Fields summaries** with stats objects or value sets of the items' fields values\n",
    "  \n",
    "Please note that the function takes also the eventual uri of the collection in input. If specified, the items Uri are made relative to that uri."
   ]
  },
  {
   "cell_type": "code",
   "execution_count": null,
   "metadata": {},
   "outputs": [],
   "source": [
    "Uri simpleItemUri = new Uri(\"https://raw.githubusercontent.com/radiantearth/stac-spec/dev/examples/simple-item.json\");\n",
    "Uri coreItemUri = new Uri(\"https://raw.githubusercontent.com/radiantearth/stac-spec/dev/examples/core-item.json\");\n",
    "Uri extendedItemUri = new Uri(\"https://raw.githubusercontent.com/radiantearth/stac-spec/dev/examples/extended-item.json\");\n",
    "\n",
    "StacItem simpleItem = StacConvert.Deserialize<StacItem>(webc.DownloadString(simpleItemUri));\n",
    "StacItem coreItem = StacConvert.Deserialize<StacItem>(webc.DownloadString(coreItemUri));\n",
    "StacItem extendedItem = StacConvert.Deserialize<StacItem>(webc.DownloadString(extendedItemUri));\n",
    "\n",
    "Dictionary<Uri, StacItem> items = new Dictionary<Uri, StacItem>();\n",
    "items.Add(simpleItemUri, simpleItem);\n",
    "items.Add(coreItemUri,coreItem);\n",
    "items.Add(extendedItemUri, extendedItem);\n",
    "\n",
    "StacCollection stacCollection = StacCollection.Create(new Uri($\"https://raw.githubusercontent.com/radiantearth/stac-spec/dev/examples/collection.json\"),\n",
    "                                                                \"simple-collection\",\n",
    "                                                                \"A simple collection demonstrating core catalog fields with links to a couple of items\",\n",
    "                                                                items,\n",
    "                                                                null,\n",
    "                                                                \"CC-BY-4.0\");\n",
    "\n",
    "Console.Out.Write(StacConvert.Serialize(collection));\n",
    "\n"
   ]
  },
  {
   "cell_type": "markdown",
   "metadata": {},
   "source": [
    "### 5 STAC Extensions support\n",
    "\n",
    "The library implements STAC extensions as extensions classes for enabling quick fields accessors. A extension class may also implement helpers related to the extensions such as \n",
    "- projection: WKT generation from EPSG identifier\n",
    "- sar: interferometric search\n",
    "- raster: calibration parameters"
   ]
  },
  {
   "cell_type": "code",
   "execution_count": null,
   "metadata": {},
   "outputs": [],
   "source": [
    "using System.IO;\n",
    "using Stac.Extensions.Sat;\n",
    "\n",
    "// Local File loading\n",
    "var s1_1_filepath = Path.GetFullPath(\"files/S1A_IW_SLC__1SDV_20150305T051937_20150305T052005_004892_006196_ABBB.json\", Directory.GetCurrentDirectory());\n",
    "var s1_2_filepath = Path.GetFullPath(\"files/S1A_IW_SLC__1SDV_20150317T051938_20150317T052005_005067_0065D5_B405.json\", Directory.GetCurrentDirectory());\n",
    "IStacItem sentinel1Item_1 = (IStacItem)StacFactory.Load(s1_1_filepath);\n",
    "IStacItem sentinel1Item_2 = (IStacItem)StacFactory.Load(s1_2_filepath);\n",
    "\n",
    "// Load Satellite extension\n",
    "SatStacExtension satExtension_1 = sentinel1Item_1.GetExtension<SatStacExtension>();\n",
    "SatStacExtension satExtension_2 = sentinel1Item_2.GetExtension<SatStacExtension>();\n",
    "\n",
    "\n",
    "Console.Out.WriteLine(string.Format(\"{0} track: {1} {2}\", sentinel1Item_1.GetTitle(),\n",
    "                                                            satExtension_1.RelativeOrbit, \n",
    "                                                            satExtension_1.OrbitState));\n",
    "Console.Out.WriteLine(string.Format(\"{0} track: {1} {2}\", sentinel1Item_2.GetTitle(),\n",
    "                                                            satExtension_2.RelativeOrbit, \n",
    "                                                            satExtension_2.OrbitState));"
   ]
  },
  {
   "cell_type": "markdown",
   "metadata": {},
   "source": [
    "#### 5.1 Load Orbital State Vectors\n",
    "\n",
    "In the next code snippet, we will use the [Satellite Extension](https://github.com/radiantearth/stac-spec/tree/master/extensions/sat) plugin to perform an perpendicular baseline calculation between 2 Sentinel-1 SAR SLC items\n",
    "\n",
    "![orbital elements](https://upload.wikimedia.org/wikipedia/commons/thumb/e/eb/Orbit1.svg/290px-Orbit1.svg.png \"Orbital Elements\")\n",
    "\n"
   ]
  },
  {
   "cell_type": "code",
   "execution_count": null,
   "metadata": {
    "scrolled": true
   },
   "outputs": [],
   "source": [
    "satExtension_1.LoadOrbitStateVectors();\n",
    "satExtension_2.LoadOrbitStateVectors();\n",
    "\n",
    "satExtension_1.OrbitStateVectors"
   ]
  },
  {
   "cell_type": "markdown",
   "metadata": {},
   "source": [
    "#### 5.2 Calculate Perpendicular Baseline\n",
    "\n",
    "Now we ask the Satellite Extension to calculate the Baseline for our 2 Satellite items\n",
    "\n",
    "<img src=\"https://slideplayer.com/slide/8654127/26/images/39/Perpendicular+Baseline.jpg\" width=\"400\">\n",
    "\n",
    "\n",
    "The purpose of this example is to show the capacity building of the plugin engine to provide with embedded functions out of the box when using STAC catalogs"
   ]
  },
  {
   "cell_type": "code",
   "execution_count": null,
   "metadata": {},
   "outputs": [],
   "source": [
    "var baseline = satExtension_1.CalculateBaseline(satExtension_2);\n",
    "display(baseline);"
   ]
  },
  {
   "cell_type": "markdown",
   "metadata": {},
   "source": [
    "### Other features to come\n",
    "\n",
    "* STAC API Client\n",
    "* Importers from other spatio temporal domains (e.g. OGC O&M, Earth Observation profile…)"
   ]
  },
  {
   "cell_type": "markdown",
   "metadata": {},
   "source": [
    "<h1 align=\"center\">Thank you!</h1>\n",
    "<img src=\"https://www.terradue.com/wp-content/uploads/2017/02/logo-03-01-1.svg\" width=\"600\" />\n",
    "\n",
    "www.terradue.com<br/>\n",
    "Emmanuel Mathot<br/>\n",
    "emmanuel.mathot@terradue.com<br/>"
   ]
  },
  {
   "cell_type": "code",
   "execution_count": null,
   "metadata": {},
   "outputs": [],
   "source": []
  }
 ],
 "metadata": {
  "celltoolbar": "Format de la Cellule Texte Brut",
  "kernelspec": {
   "display_name": ".NET (C#)",
   "language": "C#",
   "name": ".net-csharp"
  },
  "language_info": {
   "file_extension": ".cs",
   "mimetype": "text/x-csharp",
   "name": "C#",
   "pygments_lexer": "csharp",
   "version": "8.0"
  },
  "metadata": {
   "interpreter": {
    "hash": "e7370f93d1d0cde622a1f8e1c04877d8463912d04d973331ad4851f04de6915a"
   }
  }
 },
 "nbformat": 4,
 "nbformat_minor": 4
}