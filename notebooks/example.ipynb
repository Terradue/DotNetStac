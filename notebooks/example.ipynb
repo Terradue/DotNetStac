{
 "cells": [
  {
   "cell_type": "markdown",
   "metadata": {
    "slideshow": {
     "slide_type": "slide"
    }
   },
   "source": [
    "<h1 align=\"center\">DotNetStac</h1>\n",
    "<h2 align=\"center\">\n",
    ".Net library for working with Spatio Temporal Asset Catalogs (<a href=\"https://stacspec.org\">STAC</a>)\n",
    "</h2>\n",
    "\n",
    "### **DotNetStac** helps you to work with [STAC](https://stacspec.org) ([catalog](https://github.com/radiantearth/stac-spec/tree/master/catalog-spec), [collection](https://github.com/radiantearth/stac-spec/tree/master/collection-spec), [item](https://github.com/radiantearth/stac-spec/tree/master/catalog-spec))\n",
    "In a nutshell, the library allows import/export of STAC JSON documents (Serialization/Deserialization using [Newtonsoft.JSON](https://www.newtonsoft.com/json)) to typed object with properties represented in enhanced objects such as geometries, time stamp/period/span, numerical values and many more via STAC extension plugins engine."
   ]
  },
  {
   "cell_type": "markdown",
   "metadata": {},
   "source": [
    "## Getting Started\n",
    "\n",
    "In this notebook, we are going to review the library's features through a series of code examples.\n",
    "\n",
    "#### Important Note about .Net programming and C# language usage in this library\n",
    "\n",
    "We chose to design and implement the objects of this library as plain as possible (e.g. POCO) in order to keep the structured and typed nature of the C# language. So, we will deal with normal classes, without more attributes describing infrastructure concerns or other responsibilities that your domain objects shouldn't have."
   ]
  },
  {
   "cell_type": "markdown",
   "metadata": {
    "slideshow": {
     "slide_type": "slide"
    }
   },
   "source": [
    "### 1 Install DotNetStac\n",
    "First, we either install lastest version of DotNetStac in the notebook or  we use the locally built binaries"
   ]
  },
  {
   "cell_type": "code",
   "execution_count": 1,
   "metadata": {
    "slideshow": {
     "slide_type": "skip"
    }
   },
   "outputs": [
    {
     "data": {
      "text/html": "\r\n<div>\r\n    <div id='dotnet-interactive-this-cell-116418.e9da09d07d0743beac8a47e01523a075' style='display: none'>\r\n        The below script needs to be able to find the current output cell; this is an easy method to get it.\r\n    </div>\r\n    <script type='text/javascript'>\r\n// ensure `require` is available globally\r\nif (typeof require !== typeof Function || typeof require.config !== typeof Function) {\r\n    let require_script = document.createElement('script');\r\n    require_script.setAttribute('src', 'https://cdnjs.cloudflare.com/ajax/libs/require.js/2.3.6/require.min.js');\r\n    require_script.setAttribute('type', 'text/javascript');\r\n    require_script.onload = function () {\r\n        loadDotnetInteractiveApi();\r\n    };\r\n\r\n    document.getElementsByTagName('head')[0].appendChild(require_script);\r\n}\r\nelse {\r\n    loadDotnetInteractiveApi();\r\n}\r\n\r\nasync function probeAddresses(probingAddresses) {\r\n    function timeout(ms, promise) {\r\n        return new Promise(function (resolve, reject) {\r\n            setTimeout(function () {\r\n                reject(new Error('timeout'))\r\n            }, ms)\r\n            promise.then(resolve, reject)\r\n        })\r\n    }\r\n\r\n    if (Array.isArray(probingAddresses)) {\r\n        for (let i = 0; i < probingAddresses.length; i++) {\r\n\r\n            let rootUrl = probingAddresses[i];\r\n\r\n            if (!rootUrl.endsWith('/')) {\r\n                rootUrl = `${rootUrl}/`;\r\n            }\r\n\r\n            try {\r\n                let response = await timeout(1000, fetch(`${rootUrl}discovery`, {\r\n                    method: 'POST',\r\n                    cache: 'no-cache',\r\n                    mode: 'cors',\r\n                    timeout: 1000,\r\n                    headers: {\r\n                        'Content-Type': 'text/plain'\r\n                    },\r\n                    body: probingAddresses[i]\r\n                }));\r\n\r\n                if (response.status == 200) {\r\n                    return rootUrl;\r\n                }\r\n            }\r\n            catch (e) { }\r\n        }\r\n    }\r\n}\r\n\r\nfunction loadDotnetInteractiveApi() {\r\n    probeAddresses([\"http://192.168.0.15:1026/\", \"http://127.0.0.1:1026/\"])\r\n        .then((root) => {\r\n            // use probing to find host url and api resources\r\n            // load interactive helpers and language services\r\n            let dotnetInteractiveRequire = require.config({\r\n                context: '116418.e9da09d07d0743beac8a47e01523a075',\r\n                paths: {\r\n                    'dotnet-interactive': `${root}resources`\r\n                }\r\n            }) || require;\r\n\r\n            let dotnetInteractiveExtensionsRequire = require.config({\r\n                context: '116418.e9da09d07d0743beac8a47e01523a075',\r\n                paths: {\r\n                    'dotnet-interactive-extensions': `${root}extensions`\r\n                }\r\n            }) || require;\r\n\r\n            if (!window.dotnetInteractiveRequire) {\r\n                window.dotnetInteractiveRequire = dotnetInteractiveRequire;\r\n            }\r\n\r\n            if (!window.dotnetInteractiveExtensionsRequire) {\r\n                window.dotnetInteractiveExtensionsRequire = dotnetInteractiveExtensionsRequire;\r\n            }\r\n\r\n            window.getExtensionRequire = function(extensionName, extensionCacheBuster) {\r\n                let paths = {};\r\n                paths[extensionName] = `${root}extensions/${extensionName}/resources/`;\r\n                \r\n                let internalRequire = require.config({\r\n                    context: extensionCacheBuster,\r\n                    paths: paths,\r\n                    urlArgs: `cacheBuster=${extensionCacheBuster}`\r\n                    }) || require;\r\n\r\n                return internalRequire\r\n            };\r\n        \r\n            dotnetInteractiveRequire([\r\n                    'dotnet-interactive/dotnet-interactive'\r\n                ],\r\n                function (dotnet) {\r\n                    dotnet.init(window);\r\n                },\r\n                function (error) {\r\n                    console.log(error);\r\n                }\r\n            );\r\n        })\r\n        .catch(error => {console.log(error);});\r\n    }\r\n    </script>\r\n</div>"
     },
     "metadata": {},
     "output_type": "display_data"
    },
    {
     "data": {
      "text/html": "<div><strong>Restore sources</strong><ul><li><span>/tmp/</span></li></ul></div>"
     },
     "metadata": {},
     "output_type": "display_data"
    },
    {
     "data": {
      "text/plain": "Installed package DotNetStac version 0.7.1.1-alpha"
     },
     "metadata": {},
     "output_type": "display_data"
    }
   ],
   "source": [
    "// Use built lib\n",
    "#r \"/home/jovyan/src/DotNetStac/bin/Debug/DotNetStac.dll\""
   ]
  },
  {
   "cell_type": "markdown",
   "metadata": {
    "slideshow": {
     "slide_type": "slide"
    }
   },
   "source": [
    "### 2 Deserialization of STAC documents\n",
    "\n",
    "The (de)serialiation methods are wrapped in methods in [class `StacConvert`](https://terradue.github.io/DotNetStac/api/Stac.StacConvert.html) that is the main entry point from/to JSON/.Net.\n",
    "\n",
    "Let's start reading a STAC catalog online. Please note that DotNetStac does not provide with data access middleware. You can integrate own data access or you can test the [`Stars` SDK](https://github.com/Terradue/Stars) that provides with integrated functions to manipulate STAC objects and their storage.\n",
    "\n",
    "The following code is a very simple function loading a catalog and printing it's `id`, `description` and `stac_version`."
   ]
  },
  {
   "cell_type": "code",
   "execution_count": 7,
   "metadata": {
    "slideshow": {
     "slide_type": "slide"
    },
    "tags": []
   },
   "outputs": [
    {
     "name": "stdout",
     "output_type": "stream",
     "text": [
      "GEE_catalog: The Engine Engine Public Data Catalog.\n",
      "\n",
      "See also:\n",
      "\n",
      "- https://developers.google.com/earth-engine/datasets/catalog\n",
      "\n",
      "1.0.0-rc.2\n"
     ]
    }
   ],
   "source": [
    "using Stac;\n",
    "using System;\n",
    "using System.Net;\n",
    "\n",
    "var webc = new WebClient();\n",
    "Uri catalogUri = new Uri(\"https://storage.googleapis.com/earthengine-stac-experimental/catalog-v015/catalog.json\");\n",
    "\n",
    "// StacConvert.Deserialize is the helper to start loading any STAC document\n",
    "var json = webc.DownloadString(catalogUri);\n",
    "StacCatalog catalog = StacConvert.Deserialize<StacCatalog>(json);\n",
    "\n",
    "Console.Out.WriteLine(catalog.Id + \": \" + catalog.Description);\n",
    "Console.Out.WriteLine(catalog.StacVersion);\n"
   ]
  },
  {
   "cell_type": "markdown",
   "metadata": {},
   "source": [
    "### 3 Navigation from a Catalogue\n",
    "\n",
    "Using the previously loaded catalog, the following code executes a recursive function navigating from a root catalog through all it's tree structure recursing in the `child` STAC links and listing the `item` links and their `assets`.\n",
    "\n",
    "Please note the following:\n",
    "\n",
    "- `GetChildrenLinks` and `GetItemLinks` are the recommanded ways to get the links for navigating through the tree.\n",
    "- The previous functions as the rest of the library does not alter the `Uri`s. It is then up to the developer to resolve the relative ones. As in the code, Uri class provides with all the necessary methods to easily join a base Url with a relative one.\n",
    "- The `StacConvert.Deserialize<>` methods allows to specify the interfaces to ease the deserialization when the STAC type is unknown: [`IStacObject`](https://terradue.github.io/DotNetStac/api/Stac.IStacObject.html) and [`IStacCatalog`](https://terradue.github.io/DotNetStac/api/Stac.IStacCatalog.html)."
   ]
  },
  {
   "cell_type": "code",
   "execution_count": 9,
   "metadata": {
    "slideshow": {
     "slide_type": "slide"
    },
    "tags": []
   },
   "outputs": [
    {
     "name": "stdout",
     "output_type": "stream",
     "text": [
      "AAFC: \n",
      "  AAFC/ACI: \n",
      "AHN: \n",
      "  AHN/AHN2_05M_INT: \n",
      "  AHN/AHN2_05M_NON: \n",
      "  AHN/AHN2_05M_RUW: \n",
      "ASTER: \n",
      "  ASTER/AST_L1T_003: \n",
      "AU: \n",
      "  AU/GA/AUSTRALIA_5M_DEM: \n",
      "  AU/GA/DEM_1SEC/v10/DEM-H: \n",
      "  AU/GA/DEM_1SEC/v10/DEM-S: \n",
      "BIOPAMA: \n",
      "  BIOPAMA/GlobalOilPalm/v1: \n",
      "BLM: \n",
      "  BLM/AIM/v1/TerrADat/TerrestrialAIM: \n",
      "CAS: \n",
      "  CAS/IGSNRR/PML/V2: \n",
      "CGIAR: \n",
      "  CGIAR/SRTM90_V4: \n",
      "CIESIN: \n",
      "  CIESIN/GPWv411/GPW_Basic_Demographic_Characteristics: \n",
      "  CIESIN/GPWv411/GPW_Data_Context: \n",
      "  CIESIN/GPWv411/GPW_Land_Area: \n",
      "  CIESIN/GPWv411/GPW_Mean_Administrative_Unit_Area: \n",
      "  CIESIN/GPWv411/GPW_National_Identifier_Grid: \n",
      "  CIESIN/GPWv411/GPW_Population_Count: \n",
      "  CIESIN/GPWv411/GPW_Population_Density: \n",
      "  CIESIN/GPWv411/GPW_UNWPP-Adjusted_Population_Count: \n",
      "  CIESIN/GPWv411/GPW_UNWPP-Adjusted_Population_Density: \n",
      "  CIESIN/GPWv411/GPW_Water_Area: \n",
      "  CIESIN/GPWv411/GPW_Water_Mask: \n",
      "  CIESIN/GPWv4/ancillary-data-grids: \n",
      "  CIESIN/GPWv4/population-count: \n",
      "  CIESIN/GPWv4/population-density: \n",
      "  CIESIN/GPWv4/unwpp-adjusted-population-count: \n",
      "  CIESIN/GPWv4/unwpp-adjusted-population-density: \n",
      "COPERNICUS: \n",
      "  COPERNICUS/CORINE/V18_5_1/100m: \n",
      "  COPERNICUS/CORINE/V20/100m: \n",
      "  COPERNICUS/Landcover/100m/Proba-V-C3/Global: \n",
      "  COPERNICUS/Landcover/100m/Proba-V/Global: \n",
      "  COPERNICUS/S1_GRD: \n",
      "  COPERNICUS/S2: \n",
      "  COPERNICUS/S2_CLOUD_PROBABILITY: \n",
      "  COPERNICUS/S2_SR: \n",
      "  COPERNICUS/S3/OLCI: \n",
      "  COPERNICUS/S5P/NRTI/L3_AER_AI: \n",
      "  COPERNICUS/S5P/NRTI/L3_AER_LH: \n",
      "  COPERNICUS/S5P/NRTI/L3_CLOUD: \n",
      "  COPERNICUS/S5P/NRTI/L3_CO: \n",
      "  COPERNICUS/S5P/NRTI/L3_HCHO: \n",
      "  COPERNICUS/S5P/NRTI/L3_NO2: \n",
      "  COPERNICUS/S5P/NRTI/L3_O3: \n",
      "  COPERNICUS/S5P/NRTI/L3_SO2: \n",
      "  COPERNICUS/S5P/OFFL/L3_AER_AI: \n",
      "  COPERNICUS/S5P/OFFL/L3_AER_LH: \n",
      "  COPERNICUS/S5P/OFFL/L3_CH4: \n",
      "CPOM: \n",
      "  CPOM/CryoSat2/ANTARCTICA_DEM: \n",
      "CSIRO: \n",
      "  CSIRO/SLGA: \n",
      "CSP: \n",
      "  CSP/ERGo/1_0/Global/ALOS_CHILI: \n",
      "  CSP/ERGo/1_0/Global/ALOS_landforms: \n",
      "  CSP/ERGo/1_0/Global/ALOS_mTPI: \n",
      "  CSP/ERGo/1_0/Global/ALOS_topoDiversity: \n",
      "  CSP/ERGo/1_0/Global/SRTM_CHILI: \n",
      "  CSP/ERGo/1_0/Global/SRTM_landforms: \n",
      "  CSP/ERGo/1_0/Global/SRTM_mTPI: \n",
      "  CSP/ERGo/1_0/Global/SRTM_topoDiversity: \n",
      "  CSP/ERGo/1_0/US/CHILI: \n",
      "  CSP/ERGo/1_0/US/landforms: \n",
      "  CSP/ERGo/1_0/US/lithology: \n",
      "  CSP/ERGo/1_0/US/mTPI: \n",
      "  CSP/ERGo/1_0/US/physioDiversity: \n",
      "  CSP/ERGo/1_0/US/physiography: \n",
      "  CSP/ERGo/1_0/US/topoDiversity: \n",
      "  CSP/HM/GlobalHumanModification: \n",
      "ECMWF: \n",
      "  ECMWF/CAMS/NRT: \n",
      "  ECMWF/ERA5/DAILY: \n",
      "  ECMWF/ERA5_LAND/HOURLY: \n",
      "  ECMWF/ERA5_LAND/MONTHLY: \n",
      "  ECMWF/ERA5_LAND/MONTHLY_BY_HOUR: \n",
      "  ECMWF/ERA5/MONTHLY: \n",
      "EO1: \n",
      "  EO1/HYPERION: \n",
      "EPA: \n",
      "  EPA/Ecoregions/2013/L3: \n",
      "  EPA/Ecoregions/2013/L4: \n",
      "ESA: \n",
      "  ESA/CCI/FireCCI/5_1: \n",
      "  ESA/GLOBCOVER_L4_200901_200912_V2_3: \n",
      "FAO: \n",
      "  FAO/GAUL/2015/level0: \n",
      "  FAO/GAUL/2015/level1: \n",
      "  FAO/GAUL/2015/level2: \n",
      "  FAO/GAUL_SIMPLIFIED_500m/2015/level0: \n",
      "  FAO/GAUL_SIMPLIFIED_500m/2015/level1: \n",
      "  FAO/GAUL_SIMPLIFIED_500m/2015/level2: \n",
      "  FAO/GHG/1/DROSA_A: \n",
      "  FAO/GHG/1/DROSE_A: \n",
      "  FAO/WAPOR/2/L1_AETI_D: \n",
      "  FAO/WAPOR/2/L1_E_D: \n",
      "  FAO/WAPOR/2/L1_I_D: \n",
      "  FAO/WAPOR/2/L1_NPP_D: \n",
      "  FAO/WAPOR/2/L1_RET_D: \n",
      "  FAO/WAPOR/2/L1_RET_E: \n",
      "  FAO/WAPOR/2/L1_T_D: \n",
      "FIRMS: \n",
      "  FIRMS: \n",
      "FORMA: \n",
      "  FORMA/FORMA_500m: \n"
     ]
    }
   ],
   "source": [
    "using System.Linq;\n",
    "using Stac.Extensions.ItemCollections;\n",
    "\n",
    "public static void ListChildrensItemsAndAssets(IStacParent catalog, Uri baseUri, WebClient webc, string prefix = \"\", int limit = 20)\n",
    "{\n",
    "    // Get children and items (sub catalogs, collections and items)\n",
    "    foreach (var childLink in catalog.GetChildrenLinks().Concat(catalog.GetItemLinks()).Take(limit))\n",
    "    {\n",
    "        // IMPORTANT: Relative Uri resolution\n",
    "        Uri childUri = childLink.Uri;\n",
    "        if (!childUri.IsAbsoluteUri)\n",
    "            childUri = new Uri(baseUri, childUri.ToString());\n",
    "        var childjson = webc.DownloadString(childUri);\n",
    "        // STAC object loading (using the IStacObject interface)\n",
    "        IStacObject child = StacConvert.Deserialize<IStacObject>(childjson);\n",
    "\n",
    "        if (child is StacCatalog || child is StacCollection)\n",
    "            Console.Out.WriteLine(prefix + child.Id + \": \" + child.CommonMetadata().Title);\n",
    "\n",
    "        List<StacItem> items = new List<StacItem>();\n",
    "\n",
    "        // Item or ItemCollection\n",
    "        if (child is StacItem)\n",
    "            items.Add(child as StacItem);\n",
    "        if (child is ItemCollection)\n",
    "            items = (child as ItemCollection).Features;\n",
    "        // List assets if item\n",
    "        foreach (var item in items)\n",
    "        {\n",
    "            // Print the item\n",
    "            Console.Out.WriteLine(prefix + \"  \" + item.Id + \": \" + item.CommonMetadata().Title);\n",
    "            foreach (var asset in item.Assets.Values) {\n",
    "                Console.Out.WriteLine(prefix + \"    *[\" + asset.MediaType + \"] \" + asset.Uri);\n",
    "            }\n",
    "        }\n",
    "\n",
    "        // Go deeper if catalog or collection\n",
    "        if (child is StacCatalog || child is StacCollection){\n",
    "            ListChildrensItemsAndAssets(child as IStacParent, childUri, webc, prefix + \"  \", limit);\n",
    "        }\n",
    "        \n",
    "    }\n",
    "}\n",
    "\n",
    "// Start the navigation\n",
    "ListChildrensItemsAndAssets(catalog as IStacParent, catalogUri, webc);"
   ]
  },
  {
   "cell_type": "markdown",
   "metadata": {
    "slideshow": {
     "slide_type": "slide"
    }
   },
   "source": [
    "### 4 Creation and serialization of STAC documents\n",
    "\n",
    "#### 4.1 Collection creation from scratch\n",
    "\n",
    "Let's now create a STAC collection programmatically using the plain Collection object. Here all collection specific fields are set manually."
   ]
  },
  {
   "cell_type": "code",
   "execution_count": 8,
   "metadata": {
    "tags": []
   },
   "outputs": [
    {
     "name": "stdout",
     "output_type": "stream",
     "text": [
      "{\"id\":\"COPERNICUS/S2\",\"stac_version\":\"1.0.0-rc.2\",\"links\":[{\"rel\":\"self\",\"href\":\"https://storage.cloud.google.com/earthengine-test/catalog/COPERNICUS_S2.json\"},{\"rel\":\"parent\",\"href\":\"https://storage.cloud.google.com/earthengine-test/catalog/catalog.json\"},{\"rel\":\"root\",\"href\":\"https://storage.cloud.google.com/earthengine-test/catalog/catalog.json\"},{\"rel\":\"license\",\"title\":\"Legal notice on the use of Copernicus Sentinel Data and Service Information\",\"href\":\"https://scihub.copernicus.eu/twiki/pub/SciHubWebPortal/TermsConditions/Sentinel_Data_Terms_and_Conditions.pdf\"}],\"type\":\"Collection\",\"description\":\"Sentinel-2 is a wide-swath, high-resolution, multi-spectral\\nimaging mission supporting Copernicus Land Monitoring studies,...\",\"title\":\"Sentinel-2 MSI: MultiSpectral Instrument, Level-1C\",\"summaries\":{\"datetime\":{\"minimum\":\"2015-06-23T00:00:00Z\",\"maximum\":\"2019-07-10T13:44:56Z\"},\"platform\":[\"sentinel-2a\",\"sentinel-2b\"],\"constellation\":[\"sentinel-2\"],\"instruments\":[\"msi\"],\"view:off_nadir\":{\"minimum\":0.0,\"maximum\":100.0},\"view:sun_elevation\":{\"minimum\":6.78,\"maximum\":89.9},\"sci:citation\":[\"Copernicus Sentinel data [Year]\"],\"gsd\":[10,30,60],\"proj:epsg\":[32601,32602,32603,32604,32605,32606,32607,32608,32609,32610,32611,32612,32613,32614,32615,32616,32617,32618,32619,32620,32621,32622,32623,32624,32625,32626,32627,32628,32629,32630,32631,32632,32633,32634,32635,32636,32637,32638,32639,32640,32641,32642,32643,32644,32645,32646,32647,32648,32649,32650,32651,32652,32653,32654,32655,32656,32657,32658,32659,32660],\"eo:bands\":[{\"name\":\"B1\",\"common_name\":\"coastal\",\"center_wavelength\":4.439},{\"name\":\"B2\",\"common_name\":\"blue\",\"center_wavelength\":4.966},{\"name\":\"B3\",\"common_name\":\"green\",\"center_wavelength\":5.6},{\"name\":\"B4\",\"common_name\":\"red\",\"center_wavelength\":6.645},{\"name\":\"B5\",\"center_wavelength\":7.039},{\"name\":\"B6\",\"center_wavelength\":7.402},{\"name\":\"B7\",\"center_wavelength\":7.825},{\"name\":\"B8\",\"common_name\":\"nir\",\"center_wavelength\":8.351},{\"name\":\"B8A\",\"center_wavelength\":8.648},{\"name\":\"B9\",\"center_wavelength\":9.45},{\"name\":\"B10\",\"center_wavelength\":1.3735},{\"name\":\"B11\",\"common_name\":\"swir16\",\"center_wavelength\":1.6137},{\"name\":\"B12\",\"common_name\":\"swir22\",\"center_wavelength\":2.2024}]},\"extent\":{\"spatial\":{\"bbox\":[[-180.0,-56.0,180.0,83.0]]},\"temporal\":{\"interval\":[[\"2015-06-23T00:00:00Z\",null]]}},\"license\":\"proprietary\",\"providers\":[{\"name\":\"European Union/ESA/Copernicus\",\"roles\":[\"producer\",\"licensor\"],\"url\":\"https://sentinel.esa.int/web/sentinel/user-guides/sentinel-2-msi\"}],\"keywords\":[\"copernicus\",\"esa\",\"eu\",\"msi\",\"radiance\",\"sentinel\"]}\n"
     ]
    }
   ],
   "source": [
    "using Newtonsoft.Json.Linq;\n",
    "using Stac;\n",
    "using Stac.Collection;\n",
    "using System;\n",
    "using System.Collections.Generic;\n",
    "\n",
    "\n",
    "  // First the mandatory elements of a Collection\n",
    "  // Spatial Extent\n",
    "  StacExtent extent = new StacExtent();\n",
    "  extent.Spatial = new StacSpatialExtent(-180, -56, 180, 83);\n",
    "  // Temporal Extent (set null to specify an open time extent)\n",
    "  extent.Temporal = new StacTemporalExtent(DateTime.Parse(\"2015-06-23T00:00:00Z\").ToUniversalTime(), null);\n",
    "\n",
    "  // Create the Collection\n",
    "  StacCollection collection = new StacCollection(\"COPERNICUS/S2\",\n",
    "    \"Sentinel-2 is a wide-swath, high-resolution, multi-spectral\\nimaging mission supporting Copernicus Land Monitoring studies,...\",\n",
    "                                      extent);\n",
    "\n",
    "  // Title\n",
    "  collection.Title = \"Sentinel-2 MSI: MultiSpectral Instrument, Level-1C\";\n",
    "\n",
    "  // Links (self, parent, root, other) via different helpers\n",
    "  collection.Links.Add(StacLink.CreateSelfLink(new Uri(\"https://storage.cloud.google.com/earthengine-test/catalog/COPERNICUS_S2.json\")));\n",
    "  collection.Links.Add(StacLink.CreateParentLink(new Uri(\"https://storage.cloud.google.com/earthengine-test/catalog/catalog.json\")));\n",
    "  collection.Links.Add(StacLink.CreateRootLink(new Uri(\"https://storage.cloud.google.com/earthengine-test/catalog/catalog.json\")));\n",
    "  collection.Links.Add(new StacLink(new Uri(\"https://scihub.copernicus.eu/twiki/pub/SciHubWebPortal/TermsConditions/Sentinel_Data_Terms_and_Conditions.pdf\"), \"license\", \"Legal notice on the use of Copernicus Sentinel Data and Service Information\", null));\n",
    "\n",
    "  // Keywords\n",
    "  collection.Keywords.Add(\"copernicus\");\n",
    "  collection.Keywords.Add(\"esa\");\n",
    "  collection.Keywords.Add(\"eu\");\n",
    "  collection.Keywords.Add(\"msi\");\n",
    "  collection.Keywords.Add(\"radiance\");\n",
    "  collection.Keywords.Add(\"sentinel\");\n",
    "\n",
    "  // Collection of Providers\n",
    "  collection.Providers.Add(new StacProvider(\"European Union/ESA/Copernicus\",\n",
    "                            new List<StacProviderRole>() { StacProviderRole.producer, StacProviderRole.licensor })\n",
    "            {\n",
    "                Uri = new Uri(\"https://sentinel.esa.int/web/sentinel/user-guides/sentinel-2-msi\")\n",
    "            });\n",
    "\n",
    "  // Summaries\n",
    "  // Stat Summary for the dates\n",
    "  collection.Summaries.Add(\"datetime\",\n",
    "      new StacSummaryStatsObject<DateTime>(\n",
    "          DateTime.Parse(\"2015-06-23T00:00:00Z\").ToUniversalTime(),\n",
    "          DateTime.Parse(\"2019-07-10T13:44:56Z\").ToUniversalTime()\n",
    "      )\n",
    "  );\n",
    "\n",
    "  // Value Set Summary for the platforms\n",
    "  collection.Summaries.Add(\"platform\",\n",
    "      new StacSummaryValueSet<string>(new string[] { \"sentinel-2a\", \"sentinel-2b\" })\n",
    "  );\n",
    "\n",
    "  collection.Summaries.Add(\"constellation\",\n",
    "      new StacSummaryValueSet<string>(new string[] { \"sentinel-2\" })\n",
    "  );\n",
    "\n",
    "  collection.Summaries.Add(\"instruments\",\n",
    "      new StacSummaryValueSet<string>(new string[] { \"msi\" })\n",
    "  );\n",
    "\n",
    "  // Stat Summary for specific extensions\n",
    "  collection.Summaries.Add(\"view:off_nadir\",\n",
    "      new StacSummaryStatsObject<double>(\n",
    "          0.0,\n",
    "          100\n",
    "      )\n",
    "  );\n",
    "\n",
    "  collection.Summaries.Add(\"view:sun_elevation\",\n",
    "      new StacSummaryStatsObject<double>(\n",
    "          6.78,\n",
    "          89.9\n",
    "      )\n",
    "  );\n",
    "\n",
    "  collection.Summaries.Add(\"sci:citation\",\n",
    "      new StacSummaryValueSet<string>(new string[] { \"Copernicus Sentinel data [Year]\" })\n",
    "  );\n",
    "\n",
    "  collection.Summaries.Add(\"gsd\",\n",
    "      new StacSummaryValueSet<int>(new int[] {\n",
    "          10,\n",
    "          30,\n",
    "          60\n",
    "      })\n",
    "  );\n",
    "\n",
    "  collection.Summaries.Add(\"proj:epsg\",\n",
    "      new StacSummaryValueSet<int>(new int[]\n",
    "          { 32601,32602,32603,32604,32605,32606,32607,32608,32609,32610,32611,32612,32613,32614,32615,32616,32617,32618,32619,32620,32621,32622,32623,32624,32625,32626,32627,32628,32629,32630,32631,32632,32633,32634,32635,32636,32637,32638,32639,32640,32641,32642,32643,32644,32645,32646,32647,32648,32649,32650,32651,32652,32653,32654,32655,32656,32657,32658,32659,32660}\n",
    "      )\n",
    "  );\n",
    "\n",
    "  // Value Set Summary can also be set using JToken objects from Newtonsoft.Json library\n",
    "  collection.Summaries.Add(\"eo:bands\",\n",
    "      new StacSummaryValueSet<JObject>(new JObject[] {\n",
    "          new JObject {\n",
    "              { \"name\", \"B1\" },\n",
    "              { \"common_name\", \"coastal\" },\n",
    "              { \"center_wavelength\", 4.439 }\n",
    "          },\n",
    "          new JObject {\n",
    "              { \"name\", \"B2\"},\n",
    "              { \"common_name\", \"blue\"},\n",
    "              { \"center_wavelength\", 4.966}\n",
    "          },\n",
    "          new JObject {\n",
    "              { \"name\", \"B3\"},\n",
    "              { \"common_name\", \"green\"},\n",
    "              { \"center_wavelength\", 5.6}\n",
    "          },\n",
    "          new JObject {\n",
    "              { \"name\", \"B4\"},\n",
    "              { \"common_name\", \"red\"},\n",
    "              { \"center_wavelength\", 6.645}\n",
    "          },\n",
    "          new JObject {\n",
    "              { \"name\", \"B5\"},\n",
    "              { \"center_wavelength\", 7.039}\n",
    "          },\n",
    "          new JObject {\n",
    "              { \"name\", \"B6\"},\n",
    "              { \"center_wavelength\", 7.402}\n",
    "          },\n",
    "          new JObject {\n",
    "              { \"name\", \"B7\"},\n",
    "              { \"center_wavelength\", 7.825}\n",
    "          },\n",
    "          new JObject {\n",
    "              { \"name\", \"B8\"},\n",
    "              { \"common_name\", \"nir\"},\n",
    "              { \"center_wavelength\", 8.351}\n",
    "          },\n",
    "          new JObject {\n",
    "              { \"name\", \"B8A\"},\n",
    "              { \"center_wavelength\", 8.648}\n",
    "          },\n",
    "          new JObject {\n",
    "              { \"name\", \"B9\"},\n",
    "              { \"center_wavelength\", 9.45}\n",
    "          },\n",
    "          new JObject {\n",
    "              { \"name\", \"B10\"},\n",
    "              { \"center_wavelength\", 1.3735}\n",
    "          },\n",
    "          new JObject {\n",
    "              { \"name\", \"B11\"},\n",
    "              { \"common_name\", \"swir16\"},\n",
    "              { \"center_wavelength\", 1.6137}\n",
    "          },\n",
    "          new JObject {\n",
    "              { \"name\", \"B12\"},\n",
    "              { \"common_name\", \"swir22\"},\n",
    "              { \"center_wavelength\", 2.2024}\n",
    "          }\n",
    "      })\n",
    "  );\n",
    "\n",
    "  // Serialize\n",
    "  var json = StacConvert.Serialize(collection);\n",
    "  // Print JSON!\n",
    "  Console.WriteLine(json)"
   ]
  },
  {
   "cell_type": "markdown",
   "metadata": {},
   "source": [
    "#### 4.2 Collection generation from a set of Items\n",
    "\n",
    "[`StacCollection` class](https://terradue.github.io/DotNetStac/api/Stac.StacCollection.html) has static methods allowing the automatic generation of a collection from a set of `StacItem`. The following code loads the items of [the examples folder from STAC repository](https://github.com/radiantearth/stac-spec/tree/master/examples) and generates the corresponding collection with\n",
    "- **Spatial and temporal extent** from geometry and time merge of the items\n",
    "- **Fields summaries** with stats objects or value sets of the items' fields values\n",
    "  \n",
    "Please note that the function takes also the eventual uri of the collection in input. If specified, the items Uri are made relative to that uri."
   ]
  },
  {
   "cell_type": "code",
   "execution_count": 11,
   "metadata": {},
   "outputs": [
    {
     "name": "stdout",
     "output_type": "stream",
     "text": [
      "{\"id\":\"COPERNICUS/S2\",\"stac_version\":\"1.0.0-rc.2\",\"links\":[{\"rel\":\"self\",\"href\":\"https://storage.cloud.google.com/earthengine-test/catalog/COPERNICUS_S2.json\"},{\"rel\":\"parent\",\"href\":\"https://storage.cloud.google.com/earthengine-test/catalog/catalog.json\"},{\"rel\":\"root\",\"href\":\"https://storage.cloud.google.com/earthengine-test/catalog/catalog.json\"},{\"rel\":\"license\",\"title\":\"Legal notice on the use of Copernicus Sentinel Data and Service Information\",\"href\":\"https://scihub.copernicus.eu/twiki/pub/SciHubWebPortal/TermsConditions/Sentinel_Data_Terms_and_Conditions.pdf\"}],\"type\":\"Collection\",\"description\":\"Sentinel-2 is a wide-swath, high-resolution, multi-spectral\\nimaging mission supporting Copernicus Land Monitoring studies,...\",\"title\":\"Sentinel-2 MSI: MultiSpectral Instrument, Level-1C\",\"summaries\":{\"datetime\":{\"minimum\":\"2015-06-23T00:00:00Z\",\"maximum\":\"2019-07-10T13:44:56Z\"},\"platform\":[\"sentinel-2a\",\"sentinel-2b\"],\"constellation\":[\"sentinel-2\"],\"instruments\":[\"msi\"],\"view:off_nadir\":{\"minimum\":0.0,\"maximum\":100.0},\"view:sun_elevation\":{\"minimum\":6.78,\"maximum\":89.9},\"sci:citation\":[\"Copernicus Sentinel data [Year]\"],\"gsd\":[10,30,60],\"proj:epsg\":[32601,32602,32603,32604,32605,32606,32607,32608,32609,32610,32611,32612,32613,32614,32615,32616,32617,32618,32619,32620,32621,32622,32623,32624,32625,32626,32627,32628,32629,32630,32631,32632,32633,32634,32635,32636,32637,32638,32639,32640,32641,32642,32643,32644,32645,32646,32647,32648,32649,32650,32651,32652,32653,32654,32655,32656,32657,32658,32659,32660],\"eo:bands\":[{\"name\":\"B1\",\"common_name\":\"coastal\",\"center_wavelength\":4.439},{\"name\":\"B2\",\"common_name\":\"blue\",\"center_wavelength\":4.966},{\"name\":\"B3\",\"common_name\":\"green\",\"center_wavelength\":5.6},{\"name\":\"B4\",\"common_name\":\"red\",\"center_wavelength\":6.645},{\"name\":\"B5\",\"center_wavelength\":7.039},{\"name\":\"B6\",\"center_wavelength\":7.402},{\"name\":\"B7\",\"center_wavelength\":7.825},{\"name\":\"B8\",\"common_name\":\"nir\",\"center_wavelength\":8.351},{\"name\":\"B8A\",\"center_wavelength\":8.648},{\"name\":\"B9\",\"center_wavelength\":9.45},{\"name\":\"B10\",\"center_wavelength\":1.3735},{\"name\":\"B11\",\"common_name\":\"swir16\",\"center_wavelength\":1.6137},{\"name\":\"B12\",\"common_name\":\"swir22\",\"center_wavelength\":2.2024}]},\"extent\":{\"spatial\":{\"bbox\":[[-180.0,-56.0,180.0,83.0]]},\"temporal\":{\"interval\":[[\"2015-06-23T00:00:00Z\",null]]}},\"license\":\"proprietary\",\"providers\":[{\"name\":\"European Union/ESA/Copernicus\",\"roles\":[\"producer\",\"licensor\"],\"url\":\"https://sentinel.esa.int/web/sentinel/user-guides/sentinel-2-msi\"}],\"keywords\":[\"copernicus\",\"esa\",\"eu\",\"msi\",\"radiance\",\"sentinel\"]}"
     ]
    }
   ],
   "source": [
    "Uri simpleItemUri = new Uri(\"https://raw.githubusercontent.com/radiantearth/stac-spec/dev/examples/simple-item.json\");\n",
    "Uri coreItemUri = new Uri(\"https://raw.githubusercontent.com/radiantearth/stac-spec/dev/examples/core-item.json\");\n",
    "Uri extendedItemUri = new Uri(\"https://raw.githubusercontent.com/radiantearth/stac-spec/dev/examples/extended-item.json\");\n",
    "\n",
    "StacItem simpleItem = StacConvert.Deserialize<StacItem>(webc.DownloadString(simpleItemUri));\n",
    "StacItem coreItem = StacConvert.Deserialize<StacItem>(webc.DownloadString(coreItemUri));\n",
    "StacItem extendedItem = StacConvert.Deserialize<StacItem>(webc.DownloadString(extendedItemUri));\n",
    "\n",
    "Dictionary<Uri, StacItem> items = new Dictionary<Uri, StacItem>();\n",
    "items.Add(simpleItemUri, simpleItem);\n",
    "items.Add(coreItemUri,coreItem);\n",
    "items.Add(extendedItemUri, extendedItem);\n",
    "\n",
    "StacCollection stacCollection = StacCollection.Create(new Uri($\"https://raw.githubusercontent.com/radiantearth/stac-spec/dev/examples/collection.json\"),\n",
    "                                                                \"simple-collection\",\n",
    "                                                                \"A simple collection demonstrating core catalog fields with links to a couple of items\",\n",
    "                                                                items,\n",
    "                                                                null,\n",
    "                                                                \"CC-BY-4.0\");\n",
    "\n",
    "Console.Out.Write(StacConvert.Serialize(collection));\n",
    "\n"
   ]
  },
  {
   "cell_type": "markdown",
   "metadata": {},
   "source": [
    "### 5 STAC Extensions support\n",
    "\n",
    "The library implements STAC extensions as extensions classes for enabling quick fields accessors. A extension class may also implement helpers related to the extensions such as \n",
    "- projection: WKT generation from EPSG identifier\n",
    "- sar: interferometric search\n",
    "- raster: calibration parameters"
   ]
  },
  {
   "cell_type": "code",
   "execution_count": 5,
   "metadata": {},
   "outputs": [
    {
     "name": "stdout",
     "output_type": "stream",
     "text": [
      "Sentinel-1A SLC IW SDV T95 2015-03-05T05:19:37/2015-03-05T05:20:05 track: 95 descending\n",
      "Sentinel-1A SLC IW SDV T95 2015-03-17T05:19:38/2015-03-17T05:20:05 track: 95 descending\n"
     ]
    }
   ],
   "source": [
    "using System.IO;\n",
    "using Stac.Extensions.Sat;\n",
    "\n",
    "// Local File loading\n",
    "var s1_1_filepath = Path.GetFullPath(\"files/S1A_IW_SLC__1SDV_20150305T051937_20150305T052005_004892_006196_ABBB.json\", Directory.GetCurrentDirectory());\n",
    "var s1_2_filepath = Path.GetFullPath(\"files/S1A_IW_SLC__1SDV_20150317T051938_20150317T052005_005067_0065D5_B405.json\", Directory.GetCurrentDirectory());\n",
    "IStacItem sentinel1Item_1 = (IStacItem)StacFactory.Load(s1_1_filepath);\n",
    "IStacItem sentinel1Item_2 = (IStacItem)StacFactory.Load(s1_2_filepath);\n",
    "\n",
    "// Load Satellite extension\n",
    "SatStacExtension satExtension_1 = sentinel1Item_1.GetExtension<SatStacExtension>();\n",
    "SatStacExtension satExtension_2 = sentinel1Item_2.GetExtension<SatStacExtension>();\n",
    "\n",
    "\n",
    "Console.Out.WriteLine(string.Format(\"{0} track: {1} {2}\", sentinel1Item_1.GetTitle(),\n",
    "                                                            satExtension_1.RelativeOrbit, \n",
    "                                                            satExtension_1.OrbitState));\n",
    "Console.Out.WriteLine(string.Format(\"{0} track: {1} {2}\", sentinel1Item_2.GetTitle(),\n",
    "                                                            satExtension_2.RelativeOrbit, \n",
    "                                                            satExtension_2.OrbitState));"
   ]
  },
  {
   "cell_type": "markdown",
   "metadata": {},
   "source": [
    "#### 5.1 Load Orbital State Vectors\n",
    "\n",
    "In the next code snippet, we will use the [Satellite Extension](https://github.com/radiantearth/stac-spec/tree/master/extensions/sat) plugin to perform an perpendicular baseline calculation between 2 Sentinel-1 SAR SLC items\n",
    "\n",
    "![orbital elements](https://upload.wikimedia.org/wikipedia/commons/thumb/e/eb/Orbit1.svg/290px-Orbit1.svg.png \"Orbital Elements\")\n",
    "\n"
   ]
  },
  {
   "cell_type": "code",
   "execution_count": 6,
   "metadata": {
    "scrolled": true
   },
   "outputs": [
    {
     "data": {
      "text/html": [
       "<table><thead><tr><th><i>key</i></th><th>Time</th><th>Position</th><th>Velocity</th><th>Acceleration</th></tr></thead><tbody><tr><td><span>2015-03-05 05:19:40Z</span></td><td><span>2015-03-05 05:19:40Z</span></td><td><div class=\"dni-plaintext\">[ 5082939.418983107, 1595651.736905041, 4648033.558854568 ]</div></td><td><div class=\"dni-plaintext\">[ 5173.877932938749, -269.5432365485845, -5550.246440359806 ]</div></td><td><div class=\"dni-plaintext\">&lt;null&gt;</div></td></tr><tr><td><span>2015-03-05 05:19:45Z</span></td><td><span>2015-03-05 05:19:45Z</span></td><td><div class=\"dni-plaintext\">[ 5110519.037654368, 1594174.328112772, 4618284.720257935 ]</div></td><td><div class=\"dni-plaintext\">[ 5143.120075407314, -283.1234366173459, -5578.216061064719 ]</div></td><td><div class=\"dni-plaintext\">&lt;null&gt;</div></td></tr><tr><td><span>2015-03-05 05:19:50Z</span></td><td><span>2015-03-05 05:19:50Z</span></td><td><div class=\"dni-plaintext\">[ 5136162.388785399, 1592727.024757518, 4590328.590456041 ]</div></td><td><div class=\"dni-plaintext\">[ 5114.196195327355, -295.7938430458768, -5604.210861145829 ]</div></td><td><div class=\"dni-plaintext\">&lt;null&gt;</div></td></tr><tr><td><span>2015-03-05 05:19:55Z</span></td><td><span>2015-03-05 05:19:55Z</span></td><td><div class=\"dni-plaintext\">[ 5164072.544175726, 1591069.832086559, 4559571.316048217 ]</div></td><td><div class=\"dni-plaintext\">[ 5082.352650799134, -309.6321010898558, -5632.491349430379 ]</div></td><td><div class=\"dni-plaintext\">&lt;null&gt;</div></td></tr><tr><td><span>2015-03-05 05:20:00Z</span></td><td><span>2015-03-05 05:20:00Z</span></td><td><div class=\"dni-plaintext\">[ 5188609.760318574, 1589541.212127296, 4532241.960494119 ]</div></td><td><div class=\"dni-plaintext\">[ 5054.038535746737, -321.8414493178929, -5657.341909639592 ]</div></td><td><div class=\"dni-plaintext\">&lt;null&gt;</div></td></tr><tr><td><span>2015-03-05 05:20:05Z</span></td><td><span>2015-03-05 05:20:05Z</span></td><td><div class=\"dni-plaintext\">[ 5213806.540800014, 1587900.544910171, 4503891.413309338 ]</div></td><td><div class=\"dni-plaintext\">[ 5024.649317879293, -334.4204559571785, -5682.851221401394 ]</div></td><td><div class=\"dni-plaintext\">&lt;null&gt;</div></td></tr></tbody></table>"
      ]
     },
     "execution_count": 6,
     "metadata": {},
     "output_type": "execute_result"
    }
   ],
   "source": [
    "satExtension_1.LoadOrbitStateVectors();\n",
    "satExtension_2.LoadOrbitStateVectors();\n",
    "\n",
    "satExtension_1.OrbitStateVectors"
   ]
  },
  {
   "cell_type": "markdown",
   "metadata": {},
   "source": [
    "#### 5.2 Calculate Perpendicular Baseline\n",
    "\n",
    "Now we ask the Satellite Extension to calculate the Baseline for our 2 Satellite items\n",
    "\n",
    "<img src=\"https://slideplayer.com/slide/8654127/26/images/39/Perpendicular+Baseline.jpg\" width=\"400\">\n",
    "\n",
    "\n",
    "The purpose of this example is to show the capacity building of the plugin engine to provide with embedded functions out of the box when using STAC catalogs"
   ]
  },
  {
   "cell_type": "code",
   "execution_count": 7,
   "metadata": {},
   "outputs": [
    {
     "data": {
      "text/html": [
       "<table><thead><tr><th>Perpendicular</th><th>Parallel</th><th>Along</th></tr></thead><tbody><tr><td><div class=\"dni-plaintext\">10.12702223151236</div></td><td><div class=\"dni-plaintext\">14.91706357528211</div></td><td><div class=\"dni-plaintext\">40.63389277031717</div></td></tr></tbody></table>"
      ]
     },
     "metadata": {},
     "output_type": "display_data"
    }
   ],
   "source": [
    "var baseline = satExtension_1.CalculateBaseline(satExtension_2);\n",
    "display(baseline);"
   ]
  },
  {
   "cell_type": "markdown",
   "metadata": {},
   "source": [
    "### Other features to come\n",
    "\n",
    "* STAC API Client\n",
    "* Importers from other spatio temporal domains (e.g. OGC O&M, Earth Observation profile…)"
   ]
  },
  {
   "cell_type": "markdown",
   "metadata": {},
   "source": [
    "<h1 align=\"center\">Thank you!</h1>\n",
    "<img src=\"https://www.terradue.com/wp-content/uploads/2017/02/logo-03-01-1.svg\" width=\"600\" />\n",
    "\n",
    "www.terradue.com<br/>\n",
    "Emmanuel Mathot<br/>\n",
    "emmanuel.mathot@terradue.com<br/>"
   ]
  },
  {
   "cell_type": "code",
   "execution_count": null,
   "metadata": {},
   "outputs": [],
   "source": []
  }
 ],
 "metadata": {
  "celltoolbar": "Format de la Cellule Texte Brut",
  "kernelspec": {
   "display_name": ".NET (C#)",
   "language": "C#",
   "name": ".net-csharp"
  },
  "language_info": {
   "file_extension": ".cs",
   "mimetype": "text/x-csharp",
   "name": "C#",
   "pygments_lexer": "csharp",
   "version": "8.0"
  },
  "metadata": {
   "interpreter": {
    "hash": "e7370f93d1d0cde622a1f8e1c04877d8463912d04d973331ad4851f04de6915a"
   }
  }
 },
 "nbformat": 4,
 "nbformat_minor": 4
}